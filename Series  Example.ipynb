{
 "cells": [
  {
   "cell_type": "markdown",
   "id": "41f73083",
   "metadata": {},
   "source": [
    "# Here is the examples of Series."
   ]
  },
  {
   "cell_type": "markdown",
   "id": "1566f778",
   "metadata": {},
   "source": [
    "### Example 1.  Creating a series"
   ]
  },
  {
   "cell_type": "code",
   "execution_count": 2,
   "id": "b2bce714",
   "metadata": {},
   "outputs": [
    {
     "name": "stdout",
     "output_type": "stream",
     "text": [
      "0    10\n",
      "1    20\n",
      "2    30\n",
      "3    40\n",
      "4    50\n",
      "dtype: int64\n"
     ]
    }
   ],
   "source": [
    "\n",
    "import pandas as pd\n",
    "\n",
    "# Creating a Series from a list\n",
    "data = [10, 20, 30, 40, 50]\n",
    "s = pd.Series(data)\n",
    "\n",
    "print(s)\n"
   ]
  },
  {
   "cell_type": "markdown",
   "id": "da5f3661",
   "metadata": {},
   "source": [
    "### Example 2. Creating a series with index"
   ]
  },
  {
   "cell_type": "code",
   "execution_count": 3,
   "id": "82f6c85d",
   "metadata": {},
   "outputs": [
    {
     "name": "stdout",
     "output_type": "stream",
     "text": [
      "a    10\n",
      "b    20\n",
      "c    30\n",
      "d    40\n",
      "e    50\n",
      "dtype: int64\n"
     ]
    }
   ],
   "source": [
    "index = ['a', 'b', 'c', 'd', 'e']\n",
    "s = pd.Series(data, index=index)\n",
    "\n",
    "print(s)"
   ]
  },
  {
   "cell_type": "markdown",
   "id": "2cc69fd7",
   "metadata": {},
   "source": [
    "### Example  3.  Indexing and Slicing "
   ]
  },
  {
   "cell_type": "code",
   "execution_count": 4,
   "id": "b71469ea",
   "metadata": {},
   "outputs": [
    {
     "name": "stdout",
     "output_type": "stream",
     "text": [
      "b    20\n",
      "dtype: int64\n",
      "\n",
      "b    20\n",
      "c    30\n",
      "d    40\n",
      "dtype: int64\n"
     ]
    }
   ],
   "source": [
    "# Accessing elements by index\n",
    "print(s[1:2])  # Output: 30\n",
    "print()\n",
    "# Slicing the Series\n",
    "print(s[1:4])\n"
   ]
  },
  {
   "cell_type": "markdown",
   "id": "2829fe89",
   "metadata": {},
   "source": [
    "### Example 4. Operations on Series"
   ]
  },
  {
   "cell_type": "code",
   "execution_count": 5,
   "id": "abf45baa",
   "metadata": {},
   "outputs": [
    {
     "name": "stdout",
     "output_type": "stream",
     "text": [
      "a    15\n",
      "b    25\n",
      "c    35\n",
      "d    45\n",
      "e    55\n",
      "dtype: int64\n",
      "\n",
      "a     20\n",
      "b     40\n",
      "c     60\n",
      "d     80\n",
      "e    100\n",
      "dtype: int64\n",
      "\n",
      "a     5.0\n",
      "b    10.0\n",
      "c    15.0\n",
      "d    20.0\n",
      "e    25.0\n",
      "dtype: float64\n",
      "\n",
      "a     5\n",
      "b    15\n",
      "c    25\n",
      "d    35\n",
      "e    45\n",
      "dtype: int64\n"
     ]
    }
   ],
   "source": [
    "# Adding a scalar to each element\n",
    "s_add = s + 5\n",
    "print(s_add)\n",
    "print()\n",
    "\n",
    "# Multiplying each element by 2\n",
    "s_mul = s * 2\n",
    "print(s_mul)\n",
    "print()\n",
    "\n",
    "# Dividing each element by 2\n",
    "s_div=s/2\n",
    "print(s_div)\n",
    "print()\n",
    "\n",
    "# Subtracting each element by 5\n",
    "s_sub=s-5\n",
    "print(s_sub)"
   ]
  },
  {
   "cell_type": "markdown",
   "id": "514eef3a",
   "metadata": {},
   "source": [
    "### Example 5. Create a series from dictionary."
   ]
  },
  {
   "cell_type": "code",
   "execution_count": 6,
   "id": "44313e57",
   "metadata": {},
   "outputs": [
    {
     "name": "stdout",
     "output_type": "stream",
     "text": [
      "a    1\n",
      "b    2\n",
      "c    3\n",
      "d    4\n",
      "dtype: int64\n"
     ]
    }
   ],
   "source": [
    "new_dict={'a':1,'b':2,'c':3,'d':4}\n",
    "dd=pd.Series(new_dict)\n",
    "print(dd)"
   ]
  },
  {
   "cell_type": "markdown",
   "id": "80a80d08",
   "metadata": {},
   "source": [
    "### Example 6. Create a series from list"
   ]
  },
  {
   "cell_type": "code",
   "execution_count": 7,
   "id": "24517388",
   "metadata": {},
   "outputs": [
    {
     "name": "stdout",
     "output_type": "stream",
     "text": [
      "0          2\n",
      "1          3\n",
      "2          4\n",
      "3    Rishabh\n",
      "4      Rajat\n",
      "dtype: object\n"
     ]
    }
   ],
   "source": [
    "lst=[2,3,4,'Rishabh','Rajat']\n",
    "d=pd.Series(lst)\n",
    "print(d)"
   ]
  },
  {
   "cell_type": "markdown",
   "id": "c25342c5",
   "metadata": {},
   "source": [
    "### Example 7. Filtering a series"
   ]
  },
  {
   "cell_type": "code",
   "execution_count": 9,
   "id": "285f6128",
   "metadata": {},
   "outputs": [
    {
     "name": "stdout",
     "output_type": "stream",
     "text": [
      "4    50\n",
      "5    60\n",
      "6    70\n",
      "dtype: int64\n"
     ]
    }
   ],
   "source": [
    "data=[10,20,30,40,50,60,70]\n",
    "dt=pd.Series(data)\n",
    "filter_data=dt[dt>40]\n",
    "print(filter_data)"
   ]
  },
  {
   "cell_type": "markdown",
   "id": "883a1474",
   "metadata": {},
   "source": [
    "### Example 8. Handling Missing Data"
   ]
  },
  {
   "cell_type": "code",
   "execution_count": 15,
   "id": "5327c620",
   "metadata": {},
   "outputs": [
    {
     "name": "stdout",
     "output_type": "stream",
     "text": [
      "Series Without Filling any values \n",
      " a    10.0\n",
      "b     NaN\n",
      "c    30.0\n",
      "d     NaN\n",
      "dtype: float64\n",
      "\n",
      "Series With Filling values\n",
      " a    10.0\n",
      "b     0.0\n",
      "c    30.0\n",
      "d     0.0\n",
      "dtype: float64\n"
     ]
    }
   ],
   "source": [
    "data={'a':10,'b':None,'c':30,'d':None}\n",
    "series=pd.Series(data)\n",
    "print(\"Series Without Filling any values \\n\",series)\n",
    "print()\n",
    "filled_Series=series.fillna(0)\n",
    "print(\"Series With Filling values\\n\",filled_Series)"
   ]
  },
  {
   "cell_type": "markdown",
   "id": "3b45f854",
   "metadata": {},
   "source": [
    "### Example 9. Applying functions to a  Series"
   ]
  },
  {
   "cell_type": "code",
   "execution_count": 16,
   "id": "0e786bb6",
   "metadata": {},
   "outputs": [
    {
     "name": "stdout",
     "output_type": "stream",
     "text": [
      "0     1\n",
      "1     4\n",
      "2     9\n",
      "3    16\n",
      "4    25\n",
      "5    36\n",
      "6    49\n",
      "7    64\n",
      "dtype: int64\n"
     ]
    }
   ],
   "source": [
    "data=[1,2,3,4,5,6,7,8]\n",
    "d=pd.Series(data)\n",
    "sq=d.apply(lambda x:x**2)\n",
    "print(sq)"
   ]
  },
  {
   "cell_type": "markdown",
   "id": "abeeed75",
   "metadata": {},
   "source": [
    "### Example 10. Getting series information"
   ]
  },
  {
   "cell_type": "code",
   "execution_count": 18,
   "id": "0e361bb4",
   "metadata": {},
   "outputs": [
    {
     "name": "stdout",
     "output_type": "stream",
     "text": [
      "count     7.000000\n",
      "mean     44.285714\n",
      "std      24.797273\n",
      "min       3.000000\n",
      "25%      30.000000\n",
      "50%      55.000000\n",
      "75%      62.000000\n",
      "max      68.000000\n",
      "Name: Series Example, dtype: float64\n"
     ]
    }
   ],
   "source": [
    "data=[20,3,40,55,56,68,68]\n",
    "d=pd.Series(data,name='Series Example')\n",
    "print(d.describe())"
   ]
  }
 ],
 "metadata": {
  "kernelspec": {
   "display_name": "Python 3 (ipykernel)",
   "language": "python",
   "name": "python3"
  },
  "language_info": {
   "codemirror_mode": {
    "name": "ipython",
    "version": 3
   },
   "file_extension": ".py",
   "mimetype": "text/x-python",
   "name": "python",
   "nbconvert_exporter": "python",
   "pygments_lexer": "ipython3",
   "version": "3.11.5"
  }
 },
 "nbformat": 4,
 "nbformat_minor": 5
}
