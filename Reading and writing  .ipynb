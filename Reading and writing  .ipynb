{
 "cells": [
  {
   "cell_type": "markdown",
   "id": "19c7dda6",
   "metadata": {},
   "source": [
    "# Some examples  of Reading and Writing files "
   ]
  },
  {
   "cell_type": "markdown",
   "id": "9778c692",
   "metadata": {},
   "source": [
    "### Example 1. Reading CSV File "
   ]
  },
  {
   "cell_type": "code",
   "execution_count": 2,
   "id": "c19db7ed",
   "metadata": {},
   "outputs": [
    {
     "name": "stdout",
     "output_type": "stream",
     "text": [
      "      Name  Age           City\n",
      "0    Alice   25       New York\n",
      "1      Bob   30  San Francisco\n",
      "2  Charlie   35    Los Angeles\n"
     ]
    }
   ],
   "source": [
    "import pandas as pd\n",
    "df=pd.read_csv(\"Automobile_data.csv\")\n",
    "print(df.head())"
   ]
  },
  {
   "cell_type": "markdown",
   "id": "cc3b2ae4",
   "metadata": {},
   "source": [
    "### Example 2. Writing in CSV file"
   ]
  },
  {
   "cell_type": "code",
   "execution_count": 3,
   "id": "2470fc3c",
   "metadata": {},
   "outputs": [
    {
     "name": "stdout",
     "output_type": "stream",
     "text": [
      "    Name  Age           City\n",
      "0  Alice   25       New York\n",
      "1    Bob   30  San Francisco\n"
     ]
    }
   ],
   "source": [
    "data = {'Name': ['Alice', 'Bob', 'Charlie'],\n",
    "        'Age': [25, 30, 35],\n",
    "        'City': ['New York', 'San Francisco', 'Los Angeles']}\n",
    "df=pd.DataFrame(data)\n",
    "df.to_csv(\"Automobile_data.csv\",index=False)\n",
    "dd=pd.read_csv(\"Automobile_data.csv\")\n",
    "print(dd.head(2))"
   ]
  },
  {
   "cell_type": "markdown",
   "id": "52f65620",
   "metadata": {},
   "source": [
    "### Example 3. Reading JSON File "
   ]
  },
  {
   "cell_type": "code",
   "execution_count": 5,
   "id": "ce778469",
   "metadata": {},
   "outputs": [
    {
     "name": "stdout",
     "output_type": "stream",
     "text": [
      "        comment_count                                       comments_url  \\\n",
      "09zw7r              0            https://lobste.rs/s/09zw7r/edited_truth   \n",
      "0bdne7             17  https://lobste.rs/s/0bdne7/rise_social_media_v...   \n",
      "1bhbod             11  https://lobste.rs/s/1bhbod/tcl_misunderstood_a...   \n",
      "1xkje1              0  https://lobste.rs/s/1xkje1/interview_4_jonatha...   \n",
      "2dasvh             19      https://lobste.rs/s/2dasvh/return_hipster_pda   \n",
      "\n",
      "                created_at                                        description  \\\n",
      "09zw7r 2017-08-08 20:11:09                                                      \n",
      "0bdne7 2017-08-08 21:12:38                                                      \n",
      "1bhbod 2017-04-30 20:28:52  <p>Did any language end up taking that “highly...   \n",
      "1xkje1 2017-05-01 02:31:35  <p>Rust’s own Jonathan Turner on his backgroun...   \n",
      "2dasvh 2017-08-08 14:25:29                                                      \n",
      "\n",
      "        downvotes                last_updated  score  \\\n",
      "09zw7r          0  2017-08-09T11:03:57.014269      3   \n",
      "0bdne7          9  2017-08-09T11:03:57.014269     -1   \n",
      "1bhbod          0  2017-05-01T06:29:11.725518     17   \n",
      "1xkje1          0  2017-05-01T06:29:11.725518      1   \n",
      "2dasvh          0  2017-08-09T11:03:56.287654     20   \n",
      "\n",
      "                      short_id_url  \\\n",
      "09zw7r  https://lobste.rs/s/09zw7r   \n",
      "0bdne7  https://lobste.rs/s/0bdne7   \n",
      "1bhbod  https://lobste.rs/s/1bhbod   \n",
      "1xkje1  https://lobste.rs/s/1xkje1   \n",
      "2dasvh  https://lobste.rs/s/2dasvh   \n",
      "\n",
      "                                           submitter_user  \\\n",
      "09zw7r  {'avatar_url': 'https://lobste.rs/avatars/trn-...   \n",
      "0bdne7  {'avatar_url': 'https://lobste.rs/avatars/nkhu...   \n",
      "1bhbod  {'is_moderator': False, 'is_admin': False, 'us...   \n",
      "1xkje1  {'is_moderator': False, 'is_admin': False, 'us...   \n",
      "2dasvh  {'created_at': '2017-01-19T14:56:50.000-06:00'...   \n",
      "\n",
      "                             tags                                       title  \\\n",
      "09zw7r              [crypto, pdf]                            The Edited Truth   \n",
      "0bdne7             [law, privacy]      The Rise of The Social Media Vigilante   \n",
      "1bhbod              [programming]             Tcl the misunderstood - antirez   \n",
      "1xkje1  [audio, javascript, rust]  🎤🎙 Interview 4 – Jonathan Turner: Part 1/3   \n",
      "2dasvh                [practices]               The Return of the Hipster PDA   \n",
      "\n",
      "        upvotes                                                url  \n",
      "09zw7r        3               https://eprint.iacr.org/2017/714.pdf  \n",
      "0bdne7        8  https://medium.com/@nkhumphreys_89452/the-rise...  \n",
      "1bhbod       17  http://antirez.com/articoli/tclmisunderstood.html  \n",
      "1xkje1        1  http://www.newrustacean.com/show_notes/intervi...  \n",
      "2dasvh       20  http://www.agilesysadmin.net/return-of-the-hip...  \n"
     ]
    }
   ],
   "source": [
    "df=pd.read_json(\"all_lobsters.json\")\n",
    "print(df.head())"
   ]
  },
  {
   "cell_type": "markdown",
   "id": "2b3fd4ce",
   "metadata": {},
   "source": [
    "### Example 4. Writing on JSON File "
   ]
  },
  {
   "cell_type": "code",
   "execution_count": 7,
   "id": "43c31dc1",
   "metadata": {},
   "outputs": [
    {
     "name": "stdout",
     "output_type": "stream",
     "text": [
      "      Name  Age           City\n",
      "0    Alice   25       New York\n",
      "1      Bob   30  San Francisco\n",
      "2  Charlie   35    Los Angeles\n"
     ]
    }
   ],
   "source": [
    "data = {'Name': ['Alice', 'Bob', 'Charlie'],\n",
    "        'Age': [25, 30, 35],\n",
    "        'City': ['New York', 'San Francisco', 'Los Angeles']}\n",
    "df=pd.DataFrame(data)\n",
    "df.to_json(\"all_lobsters.json\",orient='records')\n",
    "df=pd.read_json(\"all_lobsters.json\")\n",
    "print(df.head())"
   ]
  },
  {
   "cell_type": "markdown",
   "id": "899690df",
   "metadata": {},
   "source": [
    "### Example 5. Reading Excel File "
   ]
  },
  {
   "cell_type": "code",
   "execution_count": 8,
   "id": "ebde0341",
   "metadata": {},
   "outputs": [
    {
     "name": "stdout",
     "output_type": "stream",
     "text": [
      "      Segment  Country    Product Discount Band  Units Sold  \\\n",
      "0  Government   Canada  Carretera           NaN      1618.5   \n",
      "1  Government  Germany  Carretera           NaN      1321.0   \n",
      "2   Midmarket   France  Carretera           NaN      2178.0   \n",
      "3   Midmarket  Germany  Carretera           NaN       888.0   \n",
      "4   Midmarket   Mexico  Carretera           NaN      2470.0   \n",
      "\n",
      "   Manufacturing Price  Sale Price  Gross Sales  Discounts    Sales     COGS  \\\n",
      "0                    3          20      32370.0        0.0  32370.0  16185.0   \n",
      "1                    3          20      26420.0        0.0  26420.0  13210.0   \n",
      "2                    3          15      32670.0        0.0  32670.0  21780.0   \n",
      "3                    3          15      13320.0        0.0  13320.0   8880.0   \n",
      "4                    3          15      37050.0        0.0  37050.0  24700.0   \n",
      "\n",
      "    Profit       Date  Month Number Month Name  Year  \n",
      "0  16185.0 2014-01-01             1    January  2014  \n",
      "1  13210.0 2014-01-01             1    January  2014  \n",
      "2  10890.0 2014-06-01             6       June  2014  \n",
      "3   4440.0 2014-06-01             6       June  2014  \n",
      "4  12350.0 2014-06-01             6       June  2014  \n"
     ]
    }
   ],
   "source": [
    "df=pd.read_excel(\"financial_data.xlsx\")\n",
    "print(df.head())"
   ]
  },
  {
   "cell_type": "markdown",
   "id": "989c3976",
   "metadata": {},
   "source": [
    "### Example 6. Writing on Excel file "
   ]
  },
  {
   "cell_type": "code",
   "execution_count": 9,
   "id": "8ee03be0",
   "metadata": {},
   "outputs": [
    {
     "name": "stdout",
     "output_type": "stream",
     "text": [
      "   Unnamed: 0     Name  Age           City\n",
      "0           0    Alice   25       New York\n",
      "1           1      Bob   30  San Francisco\n",
      "2           2  Charlie   35    Los Angeles\n"
     ]
    }
   ],
   "source": [
    "data = {'Name': ['Alice', 'Bob', 'Charlie'],\n",
    "        'Age': [25, 30, 35],\n",
    "        'City': ['New York', 'San Francisco', 'Los Angeles']}\n",
    "df=pd.DataFrame(data)\n",
    "df.to_excel(\"financial_data.xlsx\")\n",
    "df=pd.read_excel(\"financial_data.xlsx\")\n",
    "print(df.head())"
   ]
  },
  {
   "cell_type": "code",
   "execution_count": null,
   "id": "ebc1cae3",
   "metadata": {},
   "outputs": [],
   "source": []
  }
 ],
 "metadata": {
  "kernelspec": {
   "display_name": "Python 3 (ipykernel)",
   "language": "python",
   "name": "python3"
  },
  "language_info": {
   "codemirror_mode": {
    "name": "ipython",
    "version": 3
   },
   "file_extension": ".py",
   "mimetype": "text/x-python",
   "name": "python",
   "nbconvert_exporter": "python",
   "pygments_lexer": "ipython3",
   "version": "3.11.5"
  }
 },
 "nbformat": 4,
 "nbformat_minor": 5
}
