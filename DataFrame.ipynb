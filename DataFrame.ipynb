{
 "cells": [
  {
   "cell_type": "markdown",
   "id": "e008bcd2",
   "metadata": {},
   "source": [
    "# Here are some DataFrame Examples"
   ]
  },
  {
   "cell_type": "markdown",
   "id": "7b05d440",
   "metadata": {},
   "source": [
    "### Example 1.Creating a DataFrame from a Dictionary"
   ]
  },
  {
   "cell_type": "code",
   "execution_count": 2,
   "id": "b6c22469",
   "metadata": {},
   "outputs": [
    {
     "name": "stdout",
     "output_type": "stream",
     "text": [
      "        Name  Age     City\n",
      "0  Deepanshu   21  Haryana\n",
      "1      Rajat   22    Delhi\n",
      "2     Deepak   22       UP\n"
     ]
    }
   ],
   "source": [
    "import pandas as pd\n",
    "data={'Name':[\"Deepanshu\",\"Rajat\",\"Deepak\"],'Age':[21,22,22],'State':[\"Haryana\",\"Delhi\",\"UP\"]}\n",
    "df=pd.DataFrame(data)\n",
    "print(df)"
   ]
  },
  {
   "cell_type": "markdown",
   "id": "ecc62b37",
   "metadata": {},
   "source": [
    "### Example 2: Creating a DataFrame from Lists with Custom Index"
   ]
  },
  {
   "cell_type": "code",
   "execution_count": 3,
   "id": "119a67ee",
   "metadata": {},
   "outputs": [
    {
     "name": "stdout",
     "output_type": "stream",
     "text": [
      "               Name  Age    State\n",
      "Person 1      Ronak   23       UP\n",
      "Person 2       Abhi   23  Haryana\n",
      "Person 3  Priyanshu   20    Delhi\n"
     ]
    }
   ],
   "source": [
    "data=[['Ronak',23,'UP'],['Abhi',23,'Haryana'],['Priyanshu',20,'Delhi']]\n",
    "df=pd.DataFrame(data,columns=[\"Name\",\"Age\",\"State\"],index=[\"Person 1\",\"Person 2\",\"Person 3\"])\n",
    "print(df)"
   ]
  },
  {
   "cell_type": "markdown",
   "id": "61298a35",
   "metadata": {},
   "source": [
    "### Example 3: Creating a DataFrame from a CSV file"
   ]
  },
  {
   "cell_type": "code",
   "execution_count": 13,
   "id": "e576dbb7",
   "metadata": {},
   "outputs": [
    {
     "name": "stdout",
     "output_type": "stream",
     "text": [
      "0    Deepanshu\n",
      "1        Rajat\n",
      "2       Deepak\n",
      "Name: Name, dtype: object\n",
      "\n",
      "\n",
      "Name     Deepanshu\n",
      "Age             21\n",
      "State      Haryana\n",
      "Name: 0, dtype: object\n"
     ]
    }
   ],
   "source": [
    "data={'Name':[\"Deepanshu\",\"Rajat\",\"Deepak\"],'Age':[21,22,22],'State':[\"Haryana\",\"Delhi\",\"UP\"]}\n",
    "df=pd.DataFrame(data)\n",
    "print(df['Name'])\n",
    "print()\n",
    "print()\n",
    "print(df.loc[0])"
   ]
  },
  {
   "cell_type": "markdown",
   "id": "0c68859a",
   "metadata": {},
   "source": [
    "### Example 4. Reading CSV file and convert into dataframe "
   ]
  },
  {
   "cell_type": "code",
   "execution_count": 6,
   "id": "210e68d6",
   "metadata": {},
   "outputs": [
    {
     "name": "stdout",
     "output_type": "stream",
     "text": [
      "   Unnamed: 0  index      company   body-style  wheel-base  length  \\\n",
      "0           0      0  alfa-romero  convertible        88.6   168.8   \n",
      "1           1      1  alfa-romero  convertible        88.6   168.8   \n",
      "2           2      2  alfa-romero    hatchback        94.5   171.2   \n",
      "3           3      3         audi        sedan        99.8   176.6   \n",
      "4           4      4         audi        sedan        99.4   176.6   \n",
      "\n",
      "  engine-type num-of-cylinders  horsepower  average-mileage    price  \n",
      "0        dohc             four         111               21  13495.0  \n",
      "1        dohc             four         111               21  16500.0  \n",
      "2        ohcv              six         154               19  16500.0  \n",
      "3         ohc             four         102               24  13950.0  \n",
      "4         ohc             five         115               18  17450.0  \n"
     ]
    }
   ],
   "source": [
    "df=pd.read_csv('Automobile_data.csv')\n",
    "data=pd.DataFrame(df)\n",
    "print(data.head())"
   ]
  },
  {
   "cell_type": "markdown",
   "id": "ba91fab3",
   "metadata": {},
   "source": [
    "### Example 5. Filtering Data in a DataFrame"
   ]
  },
  {
   "cell_type": "code",
   "execution_count": 15,
   "id": "0da6a693",
   "metadata": {},
   "outputs": [
    {
     "name": "stdout",
     "output_type": "stream",
     "text": [
      "     Name  Age  State\n",
      "1   Rajat   22  Delhi\n",
      "2  Deepak   22     UP\n"
     ]
    }
   ],
   "source": [
    "data={'Name':[\"Deepanshu\",\"Rajat\",\"Deepak\"],'Age':[21,22,22],'State':[\"Haryana\",\"Delhi\",\"UP\"]}\n",
    "df=pd.DataFrame(data)\n",
    "filter_data=df[df['Age']>21]\n",
    "print(filter_data)"
   ]
  },
  {
   "cell_type": "markdown",
   "id": "017f0528",
   "metadata": {},
   "source": [
    "### Example 6. Handling Missing Data in a DataFrame"
   ]
  },
  {
   "cell_type": "code",
   "execution_count": 16,
   "id": "57eb3d89",
   "metadata": {},
   "outputs": [
    {
     "name": "stdout",
     "output_type": "stream",
     "text": [
      "        Name   Age    State\n",
      "0  Deepanshu  21.0  Haryana\n"
     ]
    }
   ],
   "source": [
    "#It will drop row where any value is missing\n",
    "data={'Name':[\"Deepanshu\",\"Rajat\",None],'Age':[21,None,22],'State':[\"Haryana\",\"Delhi\",\"UP\"]}\n",
    "df=pd.DataFrame(data)\n",
    "dr=df.dropna()\n",
    "print(dr)"
   ]
  },
  {
   "cell_type": "markdown",
   "id": "c4d89fdc",
   "metadata": {},
   "source": [
    "### Example 7: Adding a New Column to a DataFrame"
   ]
  },
  {
   "cell_type": "code",
   "execution_count": 17,
   "id": "e9ec514a",
   "metadata": {},
   "outputs": [
    {
     "name": "stdout",
     "output_type": "stream",
     "text": [
      "        Name  Age    State  Gender\n",
      "0  Deepanshu   21  Haryana    Male\n",
      "1      Rajat   23    Delhi    Male\n",
      "2    Apeksha   22       UP  Female\n"
     ]
    }
   ],
   "source": [
    "data={'Name':[\"Deepanshu\",\"Rajat\",'Apeksha'],'Age':[21,23,22],'State':[\"Haryana\",\"Delhi\",\"UP\"]}\n",
    "df=pd.DataFrame(data)\n",
    "df['Gender']=['Male','Male','Female']\n",
    "print(df)"
   ]
  },
  {
   "cell_type": "markdown",
   "id": "5531c2c8",
   "metadata": {},
   "source": [
    "### Example 8: Grouping and Aggregating Data in a DataFrame"
   ]
  },
  {
   "cell_type": "code",
   "execution_count": 18,
   "id": "a1993ede",
   "metadata": {},
   "outputs": [
    {
     "name": "stdout",
     "output_type": "stream",
     "text": [
      "               Population\n",
      "City                     \n",
      "Los Angeles           3.8\n",
      "New York             16.8\n",
      "San Francisco         1.8\n"
     ]
    }
   ],
   "source": [
    "data = {'City': ['New York', 'San Francisco', 'Los Angeles', 'New York', 'San Francisco'],\n",
    "        'Population': [8.4, 0.9, 3.8, 8.4, 0.9]}\n",
    "df = pd.DataFrame(data)\n",
    "\n",
    "# Grouping and aggregating data\n",
    "grouped_df = df.groupby('City').sum()\n",
    "print(grouped_df)"
   ]
  },
  {
   "cell_type": "markdown",
   "id": "c9ebbddc",
   "metadata": {},
   "source": [
    "### Example 9: Merging DataFrames"
   ]
  },
  {
   "cell_type": "code",
   "execution_count": 19,
   "id": "98e0e13f",
   "metadata": {},
   "outputs": [
    {
     "name": "stdout",
     "output_type": "stream",
     "text": [
      "   ID     Name  Age\n",
      "0   2      Bob   25\n",
      "1   3  Charlie   30\n"
     ]
    }
   ],
   "source": [
    "df1 = pd.DataFrame({'ID': [1, 2, 3], 'Name': ['Alice', 'Bob', 'Charlie']})\n",
    "df2 = pd.DataFrame({'ID': [2, 3, 4], 'Age': [25, 30, 35]})\n",
    "\n",
    "# Merging DataFrames\n",
    "merged_df = pd.merge(df1, df2, on='ID')\n",
    "print(merged_df)"
   ]
  },
  {
   "cell_type": "markdown",
   "id": "b1c0a8e8",
   "metadata": {},
   "source": [
    "### Example 10: Sorting a DataFrame"
   ]
  },
  {
   "cell_type": "code",
   "execution_count": 21,
   "id": "3e7fe294",
   "metadata": {},
   "outputs": [
    {
     "name": "stdout",
     "output_type": "stream",
     "text": [
      "      Name  Age           City\n",
      "2  Charlie   35    Los Angeles\n",
      "1      Bob   30  San Francisco\n",
      "0    Alice   25       New York\n"
     ]
    }
   ],
   "source": [
    "data = {'Name': ['Alice', 'Bob', 'Charlie'],\n",
    "        'Age': [25, 30, 35],\n",
    "        'City': ['New York', 'San Francisco', 'Los Angeles']}\n",
    "df = pd.DataFrame(data)\n",
    "\n",
    "# Sorting by a column\n",
    "sorted_df = df.sort_values(by='Age', ascending=False)\n",
    "print(sorted_df)"
   ]
  }
 ],
 "metadata": {
  "kernelspec": {
   "display_name": "Python 3 (ipykernel)",
   "language": "python",
   "name": "python3"
  },
  "language_info": {
   "codemirror_mode": {
    "name": "ipython",
    "version": 3
   },
   "file_extension": ".py",
   "mimetype": "text/x-python",
   "name": "python",
   "nbconvert_exporter": "python",
   "pygments_lexer": "ipython3",
   "version": "3.11.5"
  }
 },
 "nbformat": 4,
 "nbformat_minor": 5
}
