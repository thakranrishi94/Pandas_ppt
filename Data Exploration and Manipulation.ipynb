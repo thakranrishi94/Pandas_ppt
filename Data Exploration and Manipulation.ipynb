{
 "cells": [
  {
   "cell_type": "markdown",
   "id": "dce0c3fe",
   "metadata": {},
   "source": [
    "# Here are some examples of Data Exploration and Manipulation"
   ]
  },
  {
   "cell_type": "markdown",
   "id": "65b593cc",
   "metadata": {},
   "source": [
    "### Example 1. Loading Data"
   ]
  },
  {
   "cell_type": "code",
   "execution_count": 1,
   "id": "f6b0493a",
   "metadata": {},
   "outputs": [
    {
     "name": "stdout",
     "output_type": "stream",
     "text": [
      "      Name  Age           City\n",
      "0    Alice   25       New York\n",
      "1      Bob   30  San Francisco\n",
      "2  Charlie   35    Los Angeles\n"
     ]
    }
   ],
   "source": [
    "import pandas as pd\n",
    "df=pd.read_csv(\"Automobile_data.csv\")\n",
    "print(df.head())"
   ]
  },
  {
   "cell_type": "markdown",
   "id": "03012e57",
   "metadata": {},
   "source": [
    "### Example 2. Displaying Basic Information"
   ]
  },
  {
   "cell_type": "code",
   "execution_count": 2,
   "id": "925ca63f",
   "metadata": {},
   "outputs": [
    {
     "name": "stdout",
     "output_type": "stream",
     "text": [
      "<class 'pandas.core.frame.DataFrame'>\n",
      "RangeIndex: 3 entries, 0 to 2\n",
      "Data columns (total 3 columns):\n",
      " #   Column  Non-Null Count  Dtype \n",
      "---  ------  --------------  ----- \n",
      " 0   Name    3 non-null      object\n",
      " 1   Age     3 non-null      int64 \n",
      " 2   City    3 non-null      object\n",
      "dtypes: int64(1), object(2)\n",
      "memory usage: 204.0+ bytes\n"
     ]
    }
   ],
   "source": [
    "df.info()"
   ]
  },
  {
   "cell_type": "markdown",
   "id": "5e63c4c2",
   "metadata": {},
   "source": [
    "### Example 3. Descriptive Statistics"
   ]
  },
  {
   "cell_type": "code",
   "execution_count": 3,
   "id": "1d8b4cb6",
   "metadata": {},
   "outputs": [
    {
     "data": {
      "text/html": [
       "<div>\n",
       "<style scoped>\n",
       "    .dataframe tbody tr th:only-of-type {\n",
       "        vertical-align: middle;\n",
       "    }\n",
       "\n",
       "    .dataframe tbody tr th {\n",
       "        vertical-align: top;\n",
       "    }\n",
       "\n",
       "    .dataframe thead th {\n",
       "        text-align: right;\n",
       "    }\n",
       "</style>\n",
       "<table border=\"1\" class=\"dataframe\">\n",
       "  <thead>\n",
       "    <tr style=\"text-align: right;\">\n",
       "      <th></th>\n",
       "      <th>Age</th>\n",
       "    </tr>\n",
       "  </thead>\n",
       "  <tbody>\n",
       "    <tr>\n",
       "      <th>count</th>\n",
       "      <td>3.0</td>\n",
       "    </tr>\n",
       "    <tr>\n",
       "      <th>mean</th>\n",
       "      <td>30.0</td>\n",
       "    </tr>\n",
       "    <tr>\n",
       "      <th>std</th>\n",
       "      <td>5.0</td>\n",
       "    </tr>\n",
       "    <tr>\n",
       "      <th>min</th>\n",
       "      <td>25.0</td>\n",
       "    </tr>\n",
       "    <tr>\n",
       "      <th>25%</th>\n",
       "      <td>27.5</td>\n",
       "    </tr>\n",
       "    <tr>\n",
       "      <th>50%</th>\n",
       "      <td>30.0</td>\n",
       "    </tr>\n",
       "    <tr>\n",
       "      <th>75%</th>\n",
       "      <td>32.5</td>\n",
       "    </tr>\n",
       "    <tr>\n",
       "      <th>max</th>\n",
       "      <td>35.0</td>\n",
       "    </tr>\n",
       "  </tbody>\n",
       "</table>\n",
       "</div>"
      ],
      "text/plain": [
       "        Age\n",
       "count   3.0\n",
       "mean   30.0\n",
       "std     5.0\n",
       "min    25.0\n",
       "25%    27.5\n",
       "50%    30.0\n",
       "75%    32.5\n",
       "max    35.0"
      ]
     },
     "execution_count": 3,
     "metadata": {},
     "output_type": "execute_result"
    }
   ],
   "source": [
    "df.describe()"
   ]
  },
  {
   "cell_type": "markdown",
   "id": "186b2ff9",
   "metadata": {},
   "source": [
    "### Example 4. Selecting Columns\n",
    " "
   ]
  },
  {
   "cell_type": "code",
   "execution_count": 5,
   "id": "317fa3d0",
   "metadata": {},
   "outputs": [
    {
     "name": "stdout",
     "output_type": "stream",
     "text": [
      "   Age     Name\n",
      "0   25    Alice\n",
      "1   30      Bob\n",
      "2   35  Charlie\n"
     ]
    }
   ],
   "source": [
    "get_coloumn=df[['Age','Name']]\n",
    "print(get_coloumn)"
   ]
  },
  {
   "cell_type": "markdown",
   "id": "619c70a8",
   "metadata": {},
   "source": [
    "### Example 5. Filtering Data"
   ]
  },
  {
   "cell_type": "code",
   "execution_count": 7,
   "id": "4b3ddfbc",
   "metadata": {},
   "outputs": [
    {
     "name": "stdout",
     "output_type": "stream",
     "text": [
      "      Name  Age           City\n",
      "1      Bob   30  San Francisco\n",
      "2  Charlie   35    Los Angeles\n"
     ]
    }
   ],
   "source": [
    "filter_data=df[df['Age']>25]\n",
    "print(filter_data)"
   ]
  },
  {
   "cell_type": "markdown",
   "id": "98f3eef8",
   "metadata": {},
   "source": [
    "### Example 6.Handling Missing Data:"
   ]
  },
  {
   "cell_type": "code",
   "execution_count": 10,
   "id": "6cfed62b",
   "metadata": {},
   "outputs": [
    {
     "name": "stdout",
     "output_type": "stream",
     "text": [
      "    Name   Age           City\n",
      "0  Alice   0.0       New York\n",
      "1    Bob  30.0  San Francisco\n",
      "2      0  35.0    Los Angeles\n"
     ]
    }
   ],
   "source": [
    "df=pd.read_csv(\"Automobile_data.csv\")\n",
    "df_filled=df.fillna(0)\n",
    "print(df_filled)"
   ]
  },
  {
   "cell_type": "markdown",
   "id": "df6dc4fc",
   "metadata": {},
   "source": [
    "### Example 7. Grouping and Aggregation "
   ]
  },
  {
   "cell_type": "code",
   "execution_count": 15,
   "id": "5db64e24",
   "metadata": {},
   "outputs": [
    {
     "name": "stdout",
     "output_type": "stream",
     "text": [
      "Name\n",
      "Alice    22.0\n",
      "Bob      30.0\n",
      "John     35.0\n",
      "Name: Age, dtype: float64\n"
     ]
    }
   ],
   "source": [
    "df=pd.read_csv(\"Automobile_data.csv\")\n",
    "grp_data=df.groupby('Name')['Age'].mean()\n",
    "print(grp_data)"
   ]
  },
  {
   "cell_type": "markdown",
   "id": "531399c2",
   "metadata": {},
   "source": [
    "### Example 8. Adding New Columns "
   ]
  },
  {
   "cell_type": "code",
   "execution_count": 33,
   "id": "9acf32b9",
   "metadata": {},
   "outputs": [
    {
     "name": "stdout",
     "output_type": "stream",
     "text": [
      "   Roll No    Name  Maths  English  scns  Hindi\n",
      "0        1   Rohit     20       42    44     46\n",
      "1        2    Aman     30       43    45     46\n",
      "2        3  Bhavya     40       45    46     47\n",
      "3        4    Raju     50       46    47     48\n",
      "4        5   Tarun     50       45    49     49\n"
     ]
    }
   ],
   "source": [
    "df=pd.read_csv(\"marks.csv\")\n",
    "print(df.head())"
   ]
  },
  {
   "cell_type": "code",
   "execution_count": 34,
   "id": "c70db3fb",
   "metadata": {},
   "outputs": [
    {
     "name": "stdout",
     "output_type": "stream",
     "text": [
      "   Roll No    Name  Maths  English  scns  Hindi  Total Marks\n",
      "0        1   Rohit     20       42    44     46          152\n",
      "1        2    Aman     30       43    45     46          164\n",
      "2        3  Bhavya     40       45    46     47          178\n",
      "3        4    Raju     50       46    47     48          191\n",
      "4        5   Tarun     50       45    49     49          193\n"
     ]
    }
   ],
   "source": [
    "df[\"Total Marks\"]=df['Maths']+df['English']+df['Hindi']+df['scns']\n",
    "print(df.head())"
   ]
  },
  {
   "cell_type": "markdown",
   "id": "1602d81c",
   "metadata": {},
   "source": [
    "### Example 9. Sorting Data "
   ]
  },
  {
   "cell_type": "code",
   "execution_count": 35,
   "id": "e1a155de",
   "metadata": {},
   "outputs": [
    {
     "name": "stdout",
     "output_type": "stream",
     "text": [
      "   Roll No    Name  Maths  English  scns  Hindi  Total Marks\n",
      "3        4    Raju     50       46    47     48          191\n",
      "2        3  Bhavya     40       45    46     47          178\n",
      "4        5   Tarun     50       45    49     49          193\n",
      "1        2    Aman     30       43    45     46          164\n",
      "0        1   Rohit     20       42    44     46          152\n"
     ]
    }
   ],
   "source": [
    "sort_data=df.sort_values(by='English',ascending=False)\n",
    "print(sort_data)"
   ]
  },
  {
   "cell_type": "markdown",
   "id": "99ce2471",
   "metadata": {},
   "source": [
    "### Example 10. String Operations "
   ]
  },
  {
   "cell_type": "code",
   "execution_count": 38,
   "id": "c5b0b36e",
   "metadata": {},
   "outputs": [
    {
     "name": "stdout",
     "output_type": "stream",
     "text": [
      "   Roll No    Name  Maths  English  scns  Hindi  Total Marks Upper Case Name\n",
      "0        1   Rohit     20       42    44     46          152           ROHIT\n",
      "1        2    Aman     30       43    45     46          164            AMAN\n",
      "2        3  Bhavya     40       45    46     47          178          BHAVYA\n",
      "3        4    Raju     50       46    47     48          191            RAJU\n",
      "4        5   Tarun     50       45    49     49          193           TARUN\n"
     ]
    }
   ],
   "source": [
    "df['Upper Case Name'] = df['Name'].str.upper()\n",
    "print(df.head())"
   ]
  }
 ],
 "metadata": {
  "kernelspec": {
   "display_name": "Python 3 (ipykernel)",
   "language": "python",
   "name": "python3"
  },
  "language_info": {
   "codemirror_mode": {
    "name": "ipython",
    "version": 3
   },
   "file_extension": ".py",
   "mimetype": "text/x-python",
   "name": "python",
   "nbconvert_exporter": "python",
   "pygments_lexer": "ipython3",
   "version": "3.11.5"
  }
 },
 "nbformat": 4,
 "nbformat_minor": 5
}
